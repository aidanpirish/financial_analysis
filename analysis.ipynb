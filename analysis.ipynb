{
 "cells": [
  {
   "cell_type": "markdown",
   "metadata": {
    "collapsed": true
   },
   "source": [
    "# Financial Analysis of PEGA and CRM\n",
    "## Author: Aidan Irish\n",
    "## Date: 11/19/2017"
   ]
  },
  {
   "cell_type": "markdown",
   "metadata": {},
   "source": [
    "## Introduction"
   ]
  },
  {
   "attachments": {},
   "cell_type": "markdown",
   "metadata": {
    "collapsed": true
   },
   "source": [
    "Pegasystems (PEGA) and Salesforce (CRM) are software developing companies that make applications for marketing, sales, service, and operations. Pegasystems has a strong focus on customer relationship management applications and giving clients the tools to build their own applications. Salesforce has a similar focus, but the company offers more services in the cloud. The customer base for these companies includes a wide range of firms and individuals: the sales teams are regularly competing for the same future clients."
   ]
  },
  {
   "cell_type": "markdown",
   "metadata": {},
   "source": [
    "# Import Data"
   ]
  },
  {
   "cell_type": "code",
   "execution_count": null,
   "metadata": {
    "collapsed": true
   },
   "outputs": [],
   "source": [
    "import numpy as np\n",
    "import pandas as pd"
   ]
  },
  {
   "cell_type": "code",
   "execution_count": 105,
   "metadata": {},
   "outputs": [
    {
     "data": {
      "text/html": [
       "<div>\n",
       "<style>\n",
       "    .dataframe thead tr:only-child th {\n",
       "        text-align: right;\n",
       "    }\n",
       "\n",
       "    .dataframe thead th {\n",
       "        text-align: left;\n",
       "    }\n",
       "\n",
       "    .dataframe tbody tr th {\n",
       "        vertical-align: top;\n",
       "    }\n",
       "</style>\n",
       "<table border=\"1\" class=\"dataframe\">\n",
       "  <thead>\n",
       "    <tr style=\"text-align: right;\">\n",
       "      <th>figures</th>\n",
       "      <th>SalesGrowth</th>\n",
       "      <th>ChangeInNI</th>\n",
       "      <th>ChangeInLongTermDebt</th>\n",
       "      <th>TotalDebtRatio</th>\n",
       "      <th>DebtEquityRatio</th>\n",
       "      <th>EquityMultiplier</th>\n",
       "      <th>ProfitMargin</th>\n",
       "      <th>ROA</th>\n",
       "      <th>ROE</th>\n",
       "      <th>ReceivablesTurnover</th>\n",
       "      <th>TotalAssetTurnover</th>\n",
       "    </tr>\n",
       "  </thead>\n",
       "  <tbody>\n",
       "    <tr>\n",
       "      <th>2012</th>\n",
       "      <td>0.11</td>\n",
       "      <td>1.16</td>\n",
       "      <td>NaN</td>\n",
       "      <td>0.46</td>\n",
       "      <td>0.86</td>\n",
       "      <td>1.86</td>\n",
       "      <td>0.05</td>\n",
       "      <td>0.05</td>\n",
       "      <td>0.09</td>\n",
       "      <td>3.29</td>\n",
       "      <td>1.05</td>\n",
       "    </tr>\n",
       "    <tr>\n",
       "      <th>2013</th>\n",
       "      <td>0.10</td>\n",
       "      <td>0.74</td>\n",
       "      <td>NaN</td>\n",
       "      <td>0.49</td>\n",
       "      <td>0.96</td>\n",
       "      <td>1.96</td>\n",
       "      <td>0.07</td>\n",
       "      <td>0.07</td>\n",
       "      <td>0.14</td>\n",
       "      <td>2.99</td>\n",
       "      <td>0.95</td>\n",
       "    </tr>\n",
       "    <tr>\n",
       "      <th>2014</th>\n",
       "      <td>0.16</td>\n",
       "      <td>-0.13</td>\n",
       "      <td>NaN</td>\n",
       "      <td>0.50</td>\n",
       "      <td>0.99</td>\n",
       "      <td>1.99</td>\n",
       "      <td>0.06</td>\n",
       "      <td>0.06</td>\n",
       "      <td>0.11</td>\n",
       "      <td>3.70</td>\n",
       "      <td>1.00</td>\n",
       "    </tr>\n",
       "    <tr>\n",
       "      <th>2015</th>\n",
       "      <td>0.16</td>\n",
       "      <td>0.09</td>\n",
       "      <td>NaN</td>\n",
       "      <td>0.49</td>\n",
       "      <td>0.94</td>\n",
       "      <td>1.94</td>\n",
       "      <td>0.05</td>\n",
       "      <td>0.06</td>\n",
       "      <td>0.11</td>\n",
       "      <td>3.15</td>\n",
       "      <td>1.09</td>\n",
       "    </tr>\n",
       "    <tr>\n",
       "      <th>2016</th>\n",
       "      <td>0.10</td>\n",
       "      <td>-0.26</td>\n",
       "      <td>NaN</td>\n",
       "      <td>0.50</td>\n",
       "      <td>1.00</td>\n",
       "      <td>2.00</td>\n",
       "      <td>0.04</td>\n",
       "      <td>0.04</td>\n",
       "      <td>0.08</td>\n",
       "      <td>2.69</td>\n",
       "      <td>1.12</td>\n",
       "    </tr>\n",
       "  </tbody>\n",
       "</table>\n",
       "</div>"
      ],
      "text/plain": [
       "figures  SalesGrowth  ChangeInNI  ChangeInLongTermDebt  TotalDebtRatio  \\\n",
       "2012            0.11        1.16                   NaN            0.46   \n",
       "2013            0.10        0.74                   NaN            0.49   \n",
       "2014            0.16       -0.13                   NaN            0.50   \n",
       "2015            0.16        0.09                   NaN            0.49   \n",
       "2016            0.10       -0.26                   NaN            0.50   \n",
       "\n",
       "figures  DebtEquityRatio  EquityMultiplier  ProfitMargin   ROA   ROE  \\\n",
       "2012                0.86              1.86          0.05  0.05  0.09   \n",
       "2013                0.96              1.96          0.07  0.07  0.14   \n",
       "2014                0.99              1.99          0.06  0.06  0.11   \n",
       "2015                0.94              1.94          0.05  0.06  0.11   \n",
       "2016                1.00              2.00          0.04  0.04  0.08   \n",
       "\n",
       "figures  ReceivablesTurnover  TotalAssetTurnover  \n",
       "2012                    3.29                1.05  \n",
       "2013                    2.99                0.95  \n",
       "2014                    3.70                1.00  \n",
       "2015                    3.15                1.09  \n",
       "2016                    2.69                1.12  "
      ]
     },
     "execution_count": 105,
     "metadata": {},
     "output_type": "execute_result"
    }
   ],
   "source": [
    "pega = pd.read_csv(\"pega.csv\", index_col=\"figures\")\n",
    "#Transpose\n",
    "pega = pega.T\n",
    "pega"
   ]
  },
  {
   "cell_type": "code",
   "execution_count": 41,
   "metadata": {},
   "outputs": [
    {
     "data": {
      "text/html": [
       "<div>\n",
       "<style>\n",
       "    .dataframe thead tr:only-child th {\n",
       "        text-align: right;\n",
       "    }\n",
       "\n",
       "    .dataframe thead th {\n",
       "        text-align: left;\n",
       "    }\n",
       "\n",
       "    .dataframe tbody tr th {\n",
       "        vertical-align: top;\n",
       "    }\n",
       "</style>\n",
       "<table border=\"1\" class=\"dataframe\">\n",
       "  <thead>\n",
       "    <tr style=\"text-align: right;\">\n",
       "      <th>figures</th>\n",
       "      <th>SalesGrowth</th>\n",
       "      <th>ChangeInNI</th>\n",
       "      <th>ChangeInLongTermDebt</th>\n",
       "      <th>TotalDebtRatio</th>\n",
       "      <th>DebtEquityRatio</th>\n",
       "      <th>EquityMultiplier</th>\n",
       "      <th>ProfitMargin</th>\n",
       "      <th>ROA</th>\n",
       "      <th>ROE</th>\n",
       "      <th>ReceivablesTurnover</th>\n",
       "      <th>TotalAssetTurnover</th>\n",
       "    </tr>\n",
       "  </thead>\n",
       "  <tbody>\n",
       "    <tr>\n",
       "      <th>2012</th>\n",
       "      <td>0.35</td>\n",
       "      <td>-39.28</td>\n",
       "      <td>0.08</td>\n",
       "      <td>0.57</td>\n",
       "      <td>1.32</td>\n",
       "      <td>2.32</td>\n",
       "      <td>-0.09</td>\n",
       "      <td>-0.05</td>\n",
       "      <td>-0.12</td>\n",
       "      <td>4.14</td>\n",
       "      <td>0.57</td>\n",
       "    </tr>\n",
       "    <tr>\n",
       "      <th>2013</th>\n",
       "      <td>0.33</td>\n",
       "      <td>0.24</td>\n",
       "      <td>12.78</td>\n",
       "      <td>0.66</td>\n",
       "      <td>1.94</td>\n",
       "      <td>2.94</td>\n",
       "      <td>-0.05</td>\n",
       "      <td>-0.02</td>\n",
       "      <td>-0.07</td>\n",
       "      <td>3.31</td>\n",
       "      <td>0.45</td>\n",
       "    </tr>\n",
       "    <tr>\n",
       "      <th>2014</th>\n",
       "      <td>0.33</td>\n",
       "      <td>-0.40</td>\n",
       "      <td>0.12</td>\n",
       "      <td>0.62</td>\n",
       "      <td>1.62</td>\n",
       "      <td>2.62</td>\n",
       "      <td>-0.05</td>\n",
       "      <td>-0.03</td>\n",
       "      <td>-0.07</td>\n",
       "      <td>3.39</td>\n",
       "      <td>0.51</td>\n",
       "    </tr>\n",
       "    <tr>\n",
       "      <th>2015</th>\n",
       "      <td>0.24</td>\n",
       "      <td>0.78</td>\n",
       "      <td>-0.07</td>\n",
       "      <td>0.60</td>\n",
       "      <td>1.47</td>\n",
       "      <td>2.47</td>\n",
       "      <td>-0.01</td>\n",
       "      <td>-0.01</td>\n",
       "      <td>-0.01</td>\n",
       "      <td>3.19</td>\n",
       "      <td>0.54</td>\n",
       "    </tr>\n",
       "    <tr>\n",
       "      <th>2016</th>\n",
       "      <td>0.26</td>\n",
       "      <td>4.09</td>\n",
       "      <td>0.13</td>\n",
       "      <td>0.56</td>\n",
       "      <td>1.27</td>\n",
       "      <td>2.27</td>\n",
       "      <td>0.02</td>\n",
       "      <td>0.01</td>\n",
       "      <td>0.03</td>\n",
       "      <td>3.18</td>\n",
       "      <td>0.50</td>\n",
       "    </tr>\n",
       "  </tbody>\n",
       "</table>\n",
       "</div>"
      ],
      "text/plain": [
       "figures  SalesGrowth  ChangeInNI  ChangeInLongTermDebt  TotalDebtRatio  \\\n",
       "2012            0.35      -39.28                  0.08            0.57   \n",
       "2013            0.33        0.24                 12.78            0.66   \n",
       "2014            0.33       -0.40                  0.12            0.62   \n",
       "2015            0.24        0.78                 -0.07            0.60   \n",
       "2016            0.26        4.09                  0.13            0.56   \n",
       "\n",
       "figures  DebtEquityRatio  EquityMultiplier  ProfitMargin   ROA   ROE  \\\n",
       "2012                1.32              2.32         -0.09 -0.05 -0.12   \n",
       "2013                1.94              2.94         -0.05 -0.02 -0.07   \n",
       "2014                1.62              2.62         -0.05 -0.03 -0.07   \n",
       "2015                1.47              2.47         -0.01 -0.01 -0.01   \n",
       "2016                1.27              2.27          0.02  0.01  0.03   \n",
       "\n",
       "figures  ReceivablesTurnover  TotalAssetTurnover  \n",
       "2012                    4.14                0.57  \n",
       "2013                    3.31                0.45  \n",
       "2014                    3.39                0.51  \n",
       "2015                    3.19                0.54  \n",
       "2016                    3.18                0.50  "
      ]
     },
     "execution_count": 41,
     "metadata": {},
     "output_type": "execute_result"
    }
   ],
   "source": [
    "crm = pd.read_csv(\"crm.csv\", index_col=\"figures\")\n",
    "#Transpose\n",
    "crm = crm.T\n",
    "crm"
   ]
  },
  {
   "cell_type": "code",
   "execution_count": 42,
   "metadata": {},
   "outputs": [
    {
     "data": {
      "text/html": [
       "<div>\n",
       "<style>\n",
       "    .dataframe thead tr:only-child th {\n",
       "        text-align: right;\n",
       "    }\n",
       "\n",
       "    .dataframe thead th {\n",
       "        text-align: left;\n",
       "    }\n",
       "\n",
       "    .dataframe tbody tr th {\n",
       "        vertical-align: top;\n",
       "    }\n",
       "</style>\n",
       "<table border=\"1\" class=\"dataframe\">\n",
       "  <thead>\n",
       "    <tr style=\"text-align: right;\">\n",
       "      <th>figures</th>\n",
       "      <th>market cap</th>\n",
       "      <th>price/book value</th>\n",
       "      <th>enterprise value</th>\n",
       "      <th>eps</th>\n",
       "      <th>pe</th>\n",
       "      <th>ebitda</th>\n",
       "    </tr>\n",
       "  </thead>\n",
       "  <tbody>\n",
       "    <tr>\n",
       "      <th>crm</th>\n",
       "      <td>7.808200e+10</td>\n",
       "      <td>9.3</td>\n",
       "      <td>7.145000e+10</td>\n",
       "      <td>-0.11</td>\n",
       "      <td>66.70</td>\n",
       "      <td>464080000.0</td>\n",
       "    </tr>\n",
       "    <tr>\n",
       "      <th>pega</th>\n",
       "      <td>4.009000e+09</td>\n",
       "      <td>11.1</td>\n",
       "      <td>4.280000e+09</td>\n",
       "      <td>0.62</td>\n",
       "      <td>82.64</td>\n",
       "      <td>75150000.0</td>\n",
       "    </tr>\n",
       "  </tbody>\n",
       "</table>\n",
       "</div>"
      ],
      "text/plain": [
       "figures    market cap  price/book value  enterprise value   eps     pe  \\\n",
       "crm      7.808200e+10               9.3      7.145000e+10 -0.11  66.70   \n",
       "pega     4.009000e+09              11.1      4.280000e+09  0.62  82.64   \n",
       "\n",
       "figures       ebitda  \n",
       "crm      464080000.0  \n",
       "pega      75150000.0  "
      ]
     },
     "execution_count": 42,
     "metadata": {},
     "output_type": "execute_result"
    }
   ],
   "source": [
    "snap = pd.read_csv(\"snapshot.csv\", index_col=\"figures\")\n",
    "#Transpose\n",
    "snap = snap.T\n",
    "snap"
   ]
  },
  {
   "cell_type": "markdown",
   "metadata": {},
   "source": [
    "### Visualization Package Installation"
   ]
  },
  {
   "cell_type": "code",
   "execution_count": 109,
   "metadata": {},
   "outputs": [],
   "source": [
    "import matplotlib.pyplot as plt\n",
    "%matplotlib inline"
   ]
  },
  {
   "cell_type": "markdown",
   "metadata": {},
   "source": [
    "# Growth Analysis"
   ]
  },
  {
   "cell_type": "markdown",
   "metadata": {},
   "source": [
    "To dial in on how profitable a company is in terms or revenue and earnings, it is critical to anaylze sales and net income data. Determining whether or not a company is able to produce growth and stability in sales and net income speaks to the value and future of the entire organization."
   ]
  },
  {
   "cell_type": "markdown",
   "metadata": {},
   "source": [
    "## Sales Growth"
   ]
  },
  {
   "cell_type": "code",
   "execution_count": 143,
   "metadata": {
    "scrolled": true
   },
   "outputs": [
    {
     "data": {
      "image/png": "[encoded data removed]",
      "text/plain": [
       "<matplotlib.figure.Figure at 0x10f89fe50>"
      ]
     },
     "metadata": {},
     "output_type": "display_data"
    },
    {
     "name": "stdout",
     "output_type": "stream",
     "text": [
      "Average PEGA Sales Growth: 0.126\n",
      "Average CRM Sales Growth: 0.302\n"
     ]
    }
   ],
   "source": [
    "psg = pega.SalesGrowth.plot()\n",
    "csg = crm.SalesGrowth.plot(grid=\"on\", title=\"PEGA and CRM Annual Sales Growth\")\n",
    "csg.set_ylim(0.10,0.40)\n",
    "plt.xlabel(\"Year\")\n",
    "plt.ylabel(\"Percent Change in Sales Growth\")\n",
    "plt.legend([\"PEGA\", \"CRM\"]);\n",
    "plt.show()\n",
    "\n",
    "print('Average PEGA Sales Growth: ' + str(np.mean(pega.SalesGrowth)))\n",
    "print('Average CRM Sales Growth: ' + str(np.mean(crm.SalesGrowth)))"
   ]
  },
  {
   "cell_type": "markdown",
   "metadata": {},
   "source": [
    "While both companies have been increasing revenue annually, Saleforce appears to be reaching new, significant highs year after year. Over the past five years, Saleforce has seen an averge of 30% annual sales growth and Pegesystems has averaged at about 13%."
   ]
  },
  {
   "cell_type": "markdown",
   "metadata": {},
   "source": [
    "## Change in Net Income"
   ]
  },
  {
   "cell_type": "code",
   "execution_count": 134,
   "metadata": {},
   "outputs": [
    {
     "data": {
      "image/png": "[encoded data removed]",
      "text/plain": [
       "<matplotlib.figure.Figure at 0x10fbfa650>"
      ]
     },
     "metadata": {},
     "output_type": "display_data"
    }
   ],
   "source": [
    "pni = pega.ChangeInNI.plot()\n",
    "cni = crm.ChangeInNI.plot(grid=\"on\", title=\"PEGA and CRM Annual Change in Net Income\")\n",
    "cni.set_ylim(-40,5)\n",
    "plt.xlabel(\"Year\")\n",
    "plt.ylabel(\"Percent Change in Net Income\")\n",
    "plt.legend([\"PEGA\", \"CRM\"]);\n",
    "plt.show()"
   ]
  },
  {
   "cell_type": "markdown",
   "metadata": {},
   "source": [
    "Salesforce has seen a massive flucation on net income figures in the last five years, averaging at a -697% annual change. While Salesforce is reporting net income with large deviation from year to year, Pegasytems remains stable. Pegasystems ability to produce consistent earning show maturity and defensiveness. "
   ]
  },
  {
   "cell_type": "markdown",
   "metadata": {},
   "source": [
    "# Debt and Leverage Analysis"
   ]
  },
  {
   "cell_type": "markdown",
   "metadata": {},
   "source": [
    "Analyzing leverage ratios is a way to asses each company’s ability to pay off debt. All companies have financial obligations, and how comfortably a company can pay for debts says a lot about its financial health. The inability to meet these obligations can result in selling assets or declaring bankruptcy."
   ]
  },
  {
   "cell_type": "markdown",
   "metadata": {},
   "source": [
    "## Total Debt Ratio"
   ]
  },
  {
   "cell_type": "code",
   "execution_count": 139,
   "metadata": {},
   "outputs": [
    {
     "data": {
      "image/png": "[encoded data removed]",
      "text/plain": [
       "<matplotlib.figure.Figure at 0x110235910>"
      ]
     },
     "metadata": {},
     "output_type": "display_data"
    }
   ],
   "source": [
    "ptd = pega.TotalDebtRatio.plot()\n",
    "ctd = crm.TotalDebtRatio.plot(grid=\"on\", title=\"PEGA and CRM Annual Total Debt Ratio\")\n",
    "ctd.set_ylim(0.4,0.7)\n",
    "plt.xlabel(\"Year\")\n",
    "plt.ylabel(\"Total Debt Ratio\")\n",
    "plt.legend([\"PEGA\", \"CRM\"]);\n",
    "plt.show()"
   ]
  },
  {
   "cell_type": "markdown",
   "metadata": {},
   "source": [
    "The graph shows Saleforce well above Pegasystems in terms of leverage. Showing a total debt ratio greater than 0.5 is concerning because that means a company operates with debt thats more than half the size of its assets."
   ]
  },
  {
   "cell_type": "markdown",
   "metadata": {},
   "source": [
    "## Debt Equity Ratio"
   ]
  },
  {
   "cell_type": "code",
   "execution_count": 142,
   "metadata": {},
   "outputs": [
    {
     "data": {
      "image/png": "[encoded data removed]",
      "text/plain": [
       "<matplotlib.figure.Figure at 0x10f317510>"
      ]
     },
     "metadata": {},
     "output_type": "display_data"
    },
    {
     "name": "stdout",
     "output_type": "stream",
     "text": [
      "Average PEGA Sales Growth: 0.95\n",
      "Average CRM Sales Growth:1.524\n"
     ]
    }
   ],
   "source": [
    "pde = pega.DebtEquityRatio.plot()\n",
    "cde = crm.DebtEquityRatio.plot(grid=\"on\", title=\"PEGA and CRM Annual Debt Equity Ratio\")\n",
    "cde.set_ylim(0.8,2.0)\n",
    "plt.xlabel(\"Year\")\n",
    "plt.ylabel(\"Debt Equity Ratio\")\n",
    "plt.legend([\"PEGA\", \"CRM\"]);\n",
    "plt.show()\n",
    "\n",
    "print('Average PEGA Debt Equity: ' + str(np.mean(pega.DebtEquityRatio)))\n",
    "print('Average CRM Debt Equity: ' + str(np.mean(crm.DebtEquityRatio)))"
   ]
  },
  {
   "attachments": {},
   "cell_type": "markdown",
   "metadata": {},
   "source": [
    "Over the past five years, Pega has had an average 95 cents of debt for every $1 of equity, while Salesforce is at $1.52. This puts Salesforce at a disadvantage because of the possible consequences of debt."
   ]
  },
  {
   "cell_type": "markdown",
   "metadata": {},
   "source": [
    "## Change in Long-Term Debt\n",
    "#### PEGA LTD is not reported on financials"
   ]
  },
  {
   "cell_type": "code",
   "execution_count": 140,
   "metadata": {},
   "outputs": [
    {
     "data": {
      "image/png": "[encoded data removed]",
      "text/plain": [
       "<matplotlib.figure.Figure at 0x1101b8050>"
      ]
     },
     "metadata": {},
     "output_type": "display_data"
    }
   ],
   "source": [
    "cltd = crm.ChangeInLongTermDebt.plot(grid=\"on\", title=\"PEGA and CRM Annual Change in Long-Term Debt\")\n",
    "cltd.set_ylim(-0.1,15)\n",
    "plt.xlabel(\"Year\")\n",
    "plt.ylabel(\"Percent Change in Long Term Debt\")\n",
    "plt.legend([\"CRM\"]);\n",
    "plt.show()"
   ]
  },
  {
   "cell_type": "markdown",
   "metadata": {},
   "source": [
    "It becomes clear why Saleforce's total debt and debt equity ratios saw a large increase in 2013. It appears that Salesforce took on a large increase to debt in 2013. Looking at the total debt and debt equity ratios over the last three years, Saleforce is slowly decreasing its liabilities and becoming less leveraged. "
   ]
  },
  {
   "cell_type": "markdown",
   "metadata": {},
   "source": [
    "# Profitability Anaylsis"
   ]
  },
  {
   "cell_type": "code",
   "execution_count": null,
   "metadata": {
    "collapsed": true
   },
   "outputs": [],
   "source": []
  },
  {
   "cell_type": "code",
   "execution_count": null,
   "metadata": {
    "collapsed": true
   },
   "outputs": [],
   "source": [
    "pde = pega.DebtEquityRatio.plot()\n",
    "cde = crm.DebtEquityRatio.plot(grid=\"on\", title=\"PEGA and CRM Annual Debt Equity Ratio\")\n",
    "cde.set_ylim(0.8,2.0)\n",
    "plt.xlabel(\"Year\")\n",
    "plt.ylabel(\"Debt Equity Ratio\")\n",
    "plt.legend([\"PEGA\", \"CRM\"]);\n",
    "plt.show()"
   ]
  },
  {
   "cell_type": "markdown",
   "metadata": {},
   "source": [
    "# Size and Profitability"
   ]
  },
  {
   "cell_type": "code",
   "execution_count": null,
   "metadata": {
    "collapsed": true
   },
   "outputs": [],
   "source": []
  }
 ],
 "metadata": {
  "kernelspec": {
   "display_name": "Python 2",
   "language": "python",
   "name": "python2"
  },
  "language_info": {
   "codemirror_mode": {
    "name": "ipython",
    "version": 2
   },
   "file_extension": ".py",
   "mimetype": "text/x-python",
   "name": "python",
   "nbconvert_exporter": "python",
   "pygments_lexer": "ipython2",
   "version": "2.7.13"
  }
 },
 "nbformat": 4,
 "nbformat_minor": 2
}
